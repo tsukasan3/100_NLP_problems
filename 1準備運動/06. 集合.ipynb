{
 "cells": [
  {
   "cell_type": "markdown",
   "metadata": {},
   "source": [
    "# 06. 集合\n",
    "\n",
    "`“paraparaparadise”`と`”paragraph”`に含まれる文字bi-gramの集合を，それぞれ, XとYとして求め，XとYの和集合，積集合，差集合を求めよ．さらに，`’se’`というbi-gramがXおよびYに含まれるかどうかを調べよ．"
   ]
  },
  {
   "cell_type": "code",
   "execution_count": 1,
   "metadata": {},
   "outputs": [],
   "source": [
    "def n_gram(target, n):\n",
    "    return [target[idx:idx + n] for idx in range(len(target) - n + 1)]"
   ]
  },
  {
   "cell_type": "code",
   "execution_count": 2,
   "metadata": {},
   "outputs": [
    {
     "name": "stdout",
     "output_type": "stream",
     "text": [
      "['pa', 'ar', 'ra', 'ap', 'pa', 'ar', 'ra', 'ap', 'pr', 'ra', 'ad', 'di', 'is', 'se']\n",
      "['pa', 'ar', 'ra', 'ag', 'gr', 'ra', 'ap', 'ph']\n"
     ]
    }
   ],
   "source": [
    "str1 = \"paraparapradise\"\n",
    "str2 = \"paragraph\"\n",
    "\n",
    "X = n_gram(str1, 2)\n",
    "Y = n_gram(str2, 2)\n",
    "\n",
    "print(X)\n",
    "print(Y)"
   ]
  },
  {
   "cell_type": "code",
   "execution_count": 3,
   "metadata": {},
   "outputs": [],
   "source": [
    "X_set = set(X)\n",
    "Y_set = set(Y)"
   ]
  },
  {
   "cell_type": "code",
   "execution_count": 4,
   "metadata": {},
   "outputs": [
    {
     "name": "stdout",
     "output_type": "stream",
     "text": [
      "{'pr', 'ad', 'ag', 'se', 'gr', 'ap', 'di', 'ph', 'ar', 'is', 'pa', 'ra'}\n",
      "{'pr', 'ad', 'ag', 'se', 'gr', 'ap', 'di', 'ph', 'ar', 'is', 'pa', 'ra'}\n"
     ]
    }
   ],
   "source": [
    "#和集合\n",
    "Z_union = X_set | Y_set\n",
    "print(Z_union)\n",
    "\n",
    "Z_union = X_set.union(Y_set)\n",
    "print(Z_union)"
   ]
  },
  {
   "cell_type": "code",
   "execution_count": 5,
   "metadata": {},
   "outputs": [
    {
     "name": "stdout",
     "output_type": "stream",
     "text": [
      "{'ar', 'pa', 'ap', 'ra'}\n",
      "{'ar', 'pa', 'ap', 'ra'}\n"
     ]
    }
   ],
   "source": [
    "#積集合\n",
    "Z_intersection = X_set & Y_set\n",
    "print(Z_intersection)\n",
    "\n",
    "Z_intersection = X_set.intersection(Y_set)\n",
    "print(Z_intersection)"
   ]
  },
  {
   "cell_type": "code",
   "execution_count": 6,
   "metadata": {},
   "outputs": [
    {
     "name": "stdout",
     "output_type": "stream",
     "text": [
      "{'pr', 'ad', 'se', 'di', 'is'}\n",
      "{'pr', 'ad', 'se', 'di', 'is'}\n"
     ]
    }
   ],
   "source": [
    "#差集合 X\\Y\n",
    "X_difference = X_set - Y_set\n",
    "print(X_difference)\n",
    "\n",
    "X_difference = X_set.difference(Y_set)\n",
    "print(X_difference)"
   ]
  },
  {
   "cell_type": "code",
   "execution_count": 7,
   "metadata": {},
   "outputs": [
    {
     "name": "stdout",
     "output_type": "stream",
     "text": [
      "{'ag', 'ph', 'gr'}\n",
      "{'ag', 'ph', 'gr'}\n"
     ]
    }
   ],
   "source": [
    "#差集合 Y\\X\n",
    "Y_difference = Y_set - X_set\n",
    "print(Y_difference)\n",
    "\n",
    "Y_difference = Y_set.difference(X_set)\n",
    "print(Y_difference)"
   ]
  },
  {
   "cell_type": "code",
   "execution_count": 8,
   "metadata": {},
   "outputs": [
    {
     "name": "stdout",
     "output_type": "stream",
     "text": [
      "集合Xは'se'を含む\n"
     ]
    }
   ],
   "source": [
    "#集合X,Y内における要素'se'の有無\n",
    "if 'se' in X:\n",
    "    print(\"集合Xは'se'を含む\")\n",
    "else:\n",
    "    print(\"集合Xは'se'を含まない\")"
   ]
  },
  {
   "cell_type": "code",
   "execution_count": 9,
   "metadata": {},
   "outputs": [
    {
     "name": "stdout",
     "output_type": "stream",
     "text": [
      "集合Yは'se'を含まない\n"
     ]
    }
   ],
   "source": [
    "if 'se' in Y:\n",
    "    print(\"集合Yは'se'を含む\")\n",
    "else:\n",
    "    print(\"集合Yは'se'を含まない\")"
   ]
  },
  {
   "cell_type": "code",
   "execution_count": null,
   "metadata": {},
   "outputs": [],
   "source": []
  }
 ],
 "metadata": {
  "kernelspec": {
   "display_name": "Python 3",
   "language": "python",
   "name": "python3"
  },
  "language_info": {
   "codemirror_mode": {
    "name": "ipython",
    "version": 3
   },
   "file_extension": ".py",
   "mimetype": "text/x-python",
   "name": "python",
   "nbconvert_exporter": "python",
   "pygments_lexer": "ipython3",
   "version": "3.7.4"
  }
 },
 "nbformat": 4,
 "nbformat_minor": 2
}
