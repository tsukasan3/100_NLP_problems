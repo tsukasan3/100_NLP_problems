{
 "cells": [
  {
   "cell_type": "markdown",
   "metadata": {},
   "source": [
    "# 09. Typoglycemia\n",
    "\n",
    "スペースで区切られた単語列に対して，各単語の先頭と末尾の文字は残し，それ以外の文字の順序をランダムに並び替えるプログラムを作成せよ．ただし，長さが４以下の単語は並び替えないこととする．適当な英語の文（例えば`”I couldn’t believe that I could actually understand what I was reading : the phenomenal power of the human mind .`”）を与え，その実行結果を確認せよ．"
   ]
  },
  {
   "cell_type": "code",
   "execution_count": 3,
   "metadata": {},
   "outputs": [],
   "source": [
    "import random\n",
    "\n",
    "def typoglycemia(sentence):\n",
    "    new_words_list = []\n",
    "    words_list = sentence.split()\n",
    "    \n",
    "    for word in words_list:\n",
    "        if len(word) > 4:\n",
    "            c_list = [word[i] for i in range(len(word))]\n",
    "            c_list_random = c_list[1:-1]\n",
    "            random.shuffle(c_list_random)\n",
    "            c_list[1:-1] = c_list_random\n",
    "            new_word = ''.join(c for c in c_list) \n",
    "            new_words_list.append(new_word)\n",
    "        else:\n",
    "            new_words_list.append(word)\n",
    "            \n",
    "    new_sentence = ''.join(w + ' ' for w in new_words_list)\n",
    "    \n",
    "    return new_sentence"
   ]
  },
  {
   "cell_type": "code",
   "execution_count": 4,
   "metadata": {},
   "outputs": [
    {
     "name": "stdout",
     "output_type": "stream",
     "text": [
      "I cu’nodlt blveiee that I cuold autalcly usnadternd what I was rndieag : the pnhneaoeml pwoer of the huamn mind . \n"
     ]
    }
   ],
   "source": [
    "print(typoglycemia('I couldn’t believe that I could actually understand what I was reading : the phenomenal power of the human mind .'))"
   ]
  },
  {
   "cell_type": "code",
   "execution_count": null,
   "metadata": {},
   "outputs": [],
   "source": []
  }
 ],
 "metadata": {
  "kernelspec": {
   "display_name": "Python 3",
   "language": "python",
   "name": "python3"
  },
  "language_info": {
   "codemirror_mode": {
    "name": "ipython",
    "version": 3
   },
   "file_extension": ".py",
   "mimetype": "text/x-python",
   "name": "python",
   "nbconvert_exporter": "python",
   "pygments_lexer": "ipython3",
   "version": "3.7.4"
  }
 },
 "nbformat": 4,
 "nbformat_minor": 2
}
