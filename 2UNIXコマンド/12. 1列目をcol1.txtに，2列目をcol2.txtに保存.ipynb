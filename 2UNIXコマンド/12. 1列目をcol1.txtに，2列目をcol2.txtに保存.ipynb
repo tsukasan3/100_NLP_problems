{
 "cells": [
  {
   "cell_type": "markdown",
   "metadata": {},
   "source": [
    "# 12. 1列目をcol1.txtに，2列目をcol2.txtに保存\n",
    "\n",
    "各行の1列目だけを抜き出したものをcol1.txtに，2列目だけを抜き出したものをcol2.txtとしてファイルに保存せよ．確認にはcutコマンドを用いよ．"
   ]
  },
  {
   "cell_type": "code",
   "execution_count": 10,
   "metadata": {},
   "outputs": [],
   "source": [
    "path = '/Users/seiji/data/popular-names.txt'\n",
    "\n",
    "with open(path) as f, \\\n",
    "        open('/Users/seiji/data/col1.txt', mode='w') as col1_file, \\\n",
    "        open('/Users/seiji/data/col2.txt', mode='w') as col2_file:\n",
    "    for line in f:\n",
    "        cols = line.split('\\t')\n",
    "        col1_file.write(cols[0] + '\\n')\n",
    "        col2_file.write(cols[1] + '\\n')\n",
    "    "
   ]
  },
  {
   "cell_type": "code",
   "execution_count": 13,
   "metadata": {
    "scrolled": true
   },
   "outputs": [
    {
     "name": "stdout",
     "output_type": "stream",
     "text": [
      "Files /Users/seiji/data/col1.txt and /Users/seiji/data/col1_test.txt are identical\r\n"
     ]
    }
   ],
   "source": [
    "#1列目\n",
    "!cut -f 1 ~/data/popular-names.txt > ~/data/col1_test.txt\n",
    "!diff -s ~/data/col1.txt ~/data/col1_test.txt"
   ]
  },
  {
   "cell_type": "code",
   "execution_count": 14,
   "metadata": {},
   "outputs": [
    {
     "name": "stdout",
     "output_type": "stream",
     "text": [
      "Files /Users/seiji/data/col2.txt and /Users/seiji/data/col2_test.txt are identical\r\n"
     ]
    }
   ],
   "source": [
    "#2列目\n",
    "!cut -f 2 ~/data/popular-names.txt > ~/data/col2_test.txt\n",
    "!diff -s ~/data/col2.txt ~/data/col2_test.txt"
   ]
  },
  {
   "cell_type": "code",
   "execution_count": null,
   "metadata": {},
   "outputs": [],
   "source": []
  }
 ],
 "metadata": {
  "kernelspec": {
   "display_name": "Python 3",
   "language": "python",
   "name": "python3"
  },
  "language_info": {
   "codemirror_mode": {
    "name": "ipython",
    "version": 3
   },
   "file_extension": ".py",
   "mimetype": "text/x-python",
   "name": "python",
   "nbconvert_exporter": "python",
   "pygments_lexer": "ipython3",
   "version": "3.7.4"
  }
 },
 "nbformat": 4,
 "nbformat_minor": 2
}
