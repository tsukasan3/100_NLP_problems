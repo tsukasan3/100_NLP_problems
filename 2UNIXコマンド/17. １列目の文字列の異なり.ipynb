{
 "cells": [
  {
   "cell_type": "markdown",
   "metadata": {},
   "source": [
    "# 17. １列目の文字列の異なり\n",
    "\n",
    "1列目の文字列の種類（異なる文字列の集合）を求めよ．確認にはcut, sort, uniqコマンドを用いよ．"
   ]
  },
  {
   "cell_type": "code",
   "execution_count": 1,
   "metadata": {},
   "outputs": [],
   "source": [
    "path = '/Users/seiji/data/popular-names.txt'\n",
    "set_name = set()\n",
    "\n",
    "with open(path) as data_file, \\\n",
    "        open('/Users/seiji/data/uniq_name.txt', 'w') as uniq_name:\n",
    "    data = data_file.readlines()\n",
    "    for i, row in enumerate(data):\n",
    "        row = row.split(\"\\t\")\n",
    "        set_name.add(row[0])\n",
    "        \n",
    "    for name in set_name:\n",
    "        uniq_name.write(name + '\\n')\n",
    "    "
   ]
  },
  {
   "cell_type": "code",
   "execution_count": 3,
   "metadata": {},
   "outputs": [
    {
     "name": "stdout",
     "output_type": "stream",
     "text": [
      "Files /Users/seiji/data/sorted_name.txt and /Users/seiji/data/uniq_name_test.txt are identical\r\n"
     ]
    }
   ],
   "source": [
    "#確認\n",
    "!cut -f 1 ~/data/popular-names.txt | sort | uniq > ~/data/uniq_name_test.txt\n",
    "!sort ~/data/uniq_name.txt > ~/data/sorted_name.txt\n",
    "!diff -s ~/data/sorted_name.txt ~/data/uniq_name_test.txt"
   ]
  },
  {
   "cell_type": "code",
   "execution_count": null,
   "metadata": {},
   "outputs": [],
   "source": []
  }
 ],
 "metadata": {
  "kernelspec": {
   "display_name": "Python 3",
   "language": "python",
   "name": "python3"
  },
  "language_info": {
   "codemirror_mode": {
    "name": "ipython",
    "version": 3
   },
   "file_extension": ".py",
   "mimetype": "text/x-python",
   "name": "python",
   "nbconvert_exporter": "python",
   "pygments_lexer": "ipython3",
   "version": "3.7.4"
  }
 },
 "nbformat": 4,
 "nbformat_minor": 2
}
