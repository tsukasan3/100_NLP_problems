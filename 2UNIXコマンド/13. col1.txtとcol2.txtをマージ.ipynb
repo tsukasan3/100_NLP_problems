{
 "cells": [
  {
   "cell_type": "markdown",
   "metadata": {},
   "source": [
    "# 13. col1.txtとcol2.txtをマージ\n",
    "\n",
    "12で作ったcol1.txtとcol2.txtを結合し，元のファイルの1列目と2列目をタブ区切りで並べたテキストファイルを作成せよ．確認にはpasteコマンドを用いよ．"
   ]
  },
  {
   "cell_type": "code",
   "execution_count": 1,
   "metadata": {},
   "outputs": [],
   "source": [
    "path1 = '/Users/seiji/data/col1.txt'\n",
    "path2 = '/Users/seiji/data/col2.txt'\n",
    "\n",
    "with open(path1) as col1_file, \\\n",
    "        open(path2) as col2_file, \\\n",
    "        open('/Users/seiji/data/col1-2_marged.txt', mode='w') as col1_2_file:\n",
    "    col1 = col1_file.read()\n",
    "    col2 = col2_file.read()\n",
    "    for line1, line2 in zip(col1.rstrip().split(), col2.rstrip().split()):\n",
    "        col1_2_file.write(line1 + '\\t' + line2 + '\\n')\n"
   ]
  },
  {
   "cell_type": "code",
   "execution_count": 2,
   "metadata": {},
   "outputs": [
    {
     "name": "stdout",
     "output_type": "stream",
     "text": [
      "Files /Users/seiji/data/col1-2_marged.txt and /Users/seiji/data/col1-2_test.txt are identical\r\n"
     ]
    }
   ],
   "source": [
    "#確認\n",
    "!paste ~/data/col1.txt ~/data/col2.txt > ~/data/col1-2_test.txt\n",
    "!diff -s ~/data/col1-2_marged.txt ~/data/col1-2_test.txt"
   ]
  },
  {
   "cell_type": "code",
   "execution_count": null,
   "metadata": {},
   "outputs": [],
   "source": []
  }
 ],
 "metadata": {
  "kernelspec": {
   "display_name": "Python 3",
   "language": "python",
   "name": "python3"
  },
  "language_info": {
   "codemirror_mode": {
    "name": "ipython",
    "version": 3
   },
   "file_extension": ".py",
   "mimetype": "text/x-python",
   "name": "python",
   "nbconvert_exporter": "python",
   "pygments_lexer": "ipython3",
   "version": "3.7.4"
  }
 },
 "nbformat": 4,
 "nbformat_minor": 2
}
