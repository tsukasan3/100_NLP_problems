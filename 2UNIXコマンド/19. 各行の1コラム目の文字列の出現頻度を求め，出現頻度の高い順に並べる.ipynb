{
 "cells": [
  {
   "cell_type": "markdown",
   "metadata": {},
   "source": [
    "# 19. 各行の1コラム目の文字列の出現頻度を求め，出現頻度の高い順に並べる\n",
    "\n",
    "各行の1列目の文字列の出現頻度を求め，その高い順に並べて表示せよ．確認にはcut, uniq, sortコマンドを用いよ．"
   ]
  },
  {
   "cell_type": "code",
   "execution_count": 1,
   "metadata": {},
   "outputs": [
    {
     "name": "stdout",
     "output_type": "stream",
     "text": [
      "James      118\n",
      "William    111\n",
      "Robert     108\n",
      "John       108\n",
      "Mary        92\n",
      "          ... \n",
      "Lucas        1\n",
      "Laura        1\n",
      "Julie        1\n",
      "Scott        1\n",
      "Tracy        1\n",
      "Name: 0, Length: 136, dtype: int64\n"
     ]
    }
   ],
   "source": [
    "import pandas as pd\n",
    "\n",
    "path = '/Users/seiji/data/popular-names.txt'\n",
    "data = pd.read_table(path, header=None)\n",
    "\n",
    "col1 = data.iloc[:,0]\n",
    "print(col1.value_counts())"
   ]
  },
  {
   "cell_type": "code",
   "execution_count": 5,
   "metadata": {},
   "outputs": [
    {
     "name": "stdout",
     "output_type": "stream",
     "text": [
      " 118 James\r\n",
      " 111 William\r\n",
      " 108 Robert\r\n",
      " 108 John\r\n",
      "  92 Mary\r\n",
      "  75 Charles\r\n",
      "  74 Michael\r\n",
      "  73 Elizabeth\r\n",
      "  70 Joseph\r\n",
      "  60 Margaret\r\n"
     ]
    }
   ],
   "source": [
    "!cut -f 1 ~/data/popular-names.txt | sort | uniq -c | sort -nr > ~/data/test_19.txt\n",
    "!head ~/data/test_19.txt"
   ]
  },
  {
   "cell_type": "code",
   "execution_count": null,
   "metadata": {},
   "outputs": [],
   "source": []
  }
 ],
 "metadata": {
  "kernelspec": {
   "display_name": "Python 3",
   "language": "python",
   "name": "python3"
  },
  "language_info": {
   "codemirror_mode": {
    "name": "ipython",
    "version": 3
   },
   "file_extension": ".py",
   "mimetype": "text/x-python",
   "name": "python",
   "nbconvert_exporter": "python",
   "pygments_lexer": "ipython3",
   "version": "3.7.4"
  }
 },
 "nbformat": 4,
 "nbformat_minor": 2
}
