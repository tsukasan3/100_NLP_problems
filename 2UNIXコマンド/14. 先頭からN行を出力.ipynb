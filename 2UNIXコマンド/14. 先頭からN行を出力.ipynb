{
 "cells": [
  {
   "cell_type": "markdown",
   "metadata": {},
   "source": [
    "# 14. 先頭からN行を出力\n",
    "\n",
    "自然数Nをコマンドライン引数などの手段で受け取り，入力のうち先頭のN行だけを表示せよ．確認にはheadコマンドを用いよ．"
   ]
  },
  {
   "cell_type": "code",
   "execution_count": 13,
   "metadata": {},
   "outputs": [
    {
     "name": "stdout",
     "output_type": "stream",
     "text": [
      "Mary\tF\t7065\t1880\n",
      "Anna\tF\t2604\t1880\n",
      "Emma\tF\t2003\t1880\n",
      "Elizabeth\tF\t1939\t1880\n",
      "Minnie\tF\t1746\t1880\n",
      "Margaret\tF\t1578\t1880\n",
      "Ida\tF\t1472\t1880\n",
      "Alice\tF\t1414\t1880\n",
      "Bertha\tF\t1320\t1880\n",
      "Sarah\tF\t1288\t1880\n",
      "\n"
     ]
    }
   ],
   "source": [
    "import sys\n",
    "N = sys.argv[1]\n",
    "\n",
    "with open('/Users/seiji/data/popular-names.txt') as file:\n",
    "    line = file.readlines()\n",
    "\n",
    "#N = 10の時\n",
    "N = '10'\n",
    "    \n",
    "print(''.join(line[:int(N)]))"
   ]
  },
  {
   "cell_type": "code",
   "execution_count": 15,
   "metadata": {},
   "outputs": [
    {
     "name": "stdout",
     "output_type": "stream",
     "text": [
      "Mary\tF\t7065\t1880\r\n",
      "Anna\tF\t2604\t1880\r\n",
      "Emma\tF\t2003\t1880\r\n",
      "Elizabeth\tF\t1939\t1880\r\n",
      "Minnie\tF\t1746\t1880\r\n",
      "Margaret\tF\t1578\t1880\r\n",
      "Ida\tF\t1472\t1880\r\n",
      "Alice\tF\t1414\t1880\r\n",
      "Bertha\tF\t1320\t1880\r\n",
      "Sarah\tF\t1288\t1880\r\n"
     ]
    }
   ],
   "source": [
    "!head -n 10 ~/data/popular-names.txt"
   ]
  },
  {
   "cell_type": "code",
   "execution_count": null,
   "metadata": {},
   "outputs": [],
   "source": []
  }
 ],
 "metadata": {
  "kernelspec": {
   "display_name": "Python 3",
   "language": "python",
   "name": "python3"
  },
  "language_info": {
   "codemirror_mode": {
    "name": "ipython",
    "version": 3
   },
   "file_extension": ".py",
   "mimetype": "text/x-python",
   "name": "python",
   "nbconvert_exporter": "python",
   "pygments_lexer": "ipython3",
   "version": "3.7.4"
  }
 },
 "nbformat": 4,
 "nbformat_minor": 2
}
