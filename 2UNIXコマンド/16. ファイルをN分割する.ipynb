{
 "cells": [
  {
   "cell_type": "markdown",
   "metadata": {},
   "source": [
    "# 16. ファイルをN分割する\n",
    "\n",
    "自然数Nをコマンドライン引数などの手段で受け取り，入力のファイルを行単位でN分割せよ．同様の処理をsplitコマンドで実現せよ．"
   ]
  },
  {
   "cell_type": "code",
   "execution_count": 1,
   "metadata": {},
   "outputs": [
    {
     "name": "stdout",
     "output_type": "stream",
     "text": [
      "N--> 4\n"
     ]
    }
   ],
   "source": [
    "import math\n",
    "\n",
    "fname = '/Users/seiji/data/popular-names.txt'\n",
    "n = int(input('N--> ')) #自然数Nを入力\n",
    "\n",
    "with open(fname) as data_file:\n",
    "    lines = data_file.readlines() \n",
    "\n",
    "count = len(lines)\n",
    "unit = math.ceil(count / n) #引数として与えた数以上の最小の整数を返す > 1ファイル毎の行数\n",
    "\n",
    "for i, offset in enumerate(range(0, count, unit), 1): #indexを１から始める\n",
    "    with open('/Users/seiji/data/child_{:02d}.txt'.format(i), mode='w') as out_file:\n",
    "        for line in lines[offset:offset + unit]:\n",
    "            out_file.write(line)"
   ]
  },
  {
   "cell_type": "code",
   "execution_count": 26,
   "metadata": {},
   "outputs": [],
   "source": [
    "!count=`wc /Users/seiji/data/popular-names.txt`\n",
    "!split -l $(($count/4)) /Users/seiji/data/popular-names.txt ~/data/child_test_\n",
    "!ls ~/data/child_test_* | while read i;do mv $i $i.txt ;done"
   ]
  },
  {
   "cell_type": "code",
   "execution_count": 28,
   "metadata": {},
   "outputs": [
    {
     "name": "stdout",
     "output_type": "stream",
     "text": [
      "Files /Users/seiji/data/child_01.txt and /Users/seiji/data/child_test_aa.txt are identical\n",
      "Files /Users/seiji/data/child_02.txt and /Users/seiji/data/child_test_ab.txt are identical\n",
      "Files /Users/seiji/data/child_03.txt and /Users/seiji/data/child_test_ac.txt are identical\n",
      "Files /Users/seiji/data/child_04.txt and /Users/seiji/data/child_test_ad.txt are identical\n"
     ]
    }
   ],
   "source": [
    "!diff -s ~/data/child_01.txt ~/data/child_test_aa.txt\n",
    "!diff -s ~/data/child_02.txt ~/data/child_test_ab.txt\n",
    "!diff -s ~/data/child_03.txt ~/data/child_test_ac.txt\n",
    "!diff -s ~/data/child_04.txt ~/data/child_test_ad.txt"
   ]
  },
  {
   "cell_type": "code",
   "execution_count": null,
   "metadata": {},
   "outputs": [],
   "source": []
  }
 ],
 "metadata": {
  "kernelspec": {
   "display_name": "Python 3",
   "language": "python",
   "name": "python3"
  },
  "language_info": {
   "codemirror_mode": {
    "name": "ipython",
    "version": 3
   },
   "file_extension": ".py",
   "mimetype": "text/x-python",
   "name": "python",
   "nbconvert_exporter": "python",
   "pygments_lexer": "ipython3",
   "version": "3.7.4"
  }
 },
 "nbformat": 4,
 "nbformat_minor": 2
}
